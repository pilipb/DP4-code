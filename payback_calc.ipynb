{
 "cells": [
  {
   "cell_type": "code",
   "execution_count": 5,
   "metadata": {},
   "outputs": [],
   "source": [
    "# define the household electricity usage\n",
    "yearly_usage = 2900 # kWh\n",
    "monthly_usage = yearly_usage / 12 # kWh\n",
    "daily_usage = yearly_usage / 365 # kWh\n",
    "\n",
    "# define Pico Stream average output\n",
    "power_output = 0.5 # kW\n",
    "yearly_pico_output = power_output * 365 * 24 # kWh\n",
    "\n",
    "# define the cost of electricity\n",
    "'''\n",
    "37.037p per kWh with a daily standing charge of 46.356p\n",
    "'''\n",
    "cost_per_kwh = 0.37037 # £/kWh\n",
    "daily_standing_charge = 0.46356 # £/day\n",
    "\n",
    "# define the cost of installing Pico Stream\n",
    "'''\n",
    "... for the Pico Stream and ... for installation\n",
    "'''\n",
    "pico_stream_cost = 4000 # £\n",
    "installation_cost = 500 # £\n"
   ]
  },
  {
   "cell_type": "code",
   "execution_count": 6,
   "metadata": {},
   "outputs": [
    {
     "name": "stdout",
     "output_type": "stream",
     "text": [
      "Annual cost of electricity: £1243.2723999999998\n",
      "Annual energy savings: £1243.2723999999998\n",
      "Annual energy earnings: £22.474051600000003\n",
      "Payback period: 3.5552143909324476 years\n"
     ]
    }
   ],
   "source": [
    "'''\n",
    "Calculate annual cost of electricity\n",
    "'''\n",
    "annual_cost = (yearly_usage * cost_per_kwh) + (365 * daily_standing_charge) # £\n",
    "\n",
    "'''\n",
    "Calculate payback period\n",
    "'''\n",
    "\n",
    "if (yearly_usage - yearly_pico_output) > 0:\n",
    "    yearly_energy_savings = (yearly_usage - yearly_pico_output) * cost_per_kwh # £\n",
    "else:\n",
    "    yearly_energy_savings = annual_cost\n",
    "if yearly_energy_savings < 0:\n",
    "    yearly_energy_earnings = abs(yearly_energy_savings) * 0.041 # £\n",
    "\n",
    "payback_period = (pico_stream_cost + installation_cost) / ( yearly_energy_earnings + yearly_energy_savings)  # years\n",
    "\n",
    "print('Annual cost of electricity: £' + str(annual_cost))\n",
    "print('Annual energy savings: £' + str(yearly_energy_savings))\n",
    "print('Annual energy earnings: £' + str(yearly_energy_earnings))\n",
    "print('Payback period: ' + str(payback_period) + ' years')\n"
   ]
  }
 ],
 "metadata": {
  "kernelspec": {
   "display_name": "dp4",
   "language": "python",
   "name": "python3"
  },
  "language_info": {
   "codemirror_mode": {
    "name": "ipython",
    "version": 3
   },
   "file_extension": ".py",
   "mimetype": "text/x-python",
   "name": "python",
   "nbconvert_exporter": "python",
   "pygments_lexer": "ipython3",
   "version": "3.10.9"
  },
  "orig_nbformat": 4
 },
 "nbformat": 4,
 "nbformat_minor": 2
}
