{
 "cells": [
  {
   "cell_type": "code",
   "execution_count": 7,
   "metadata": {},
   "outputs": [],
   "source": [
    "# define the household electricity usage\n",
    "yearly_usage = 2900 # kWh\n",
    "monthly_usage = yearly_usage / 12 # kWh\n",
    "daily_usage = yearly_usage / 365 # kWh\n",
    "\n",
    "# define Pico Stream average output\n",
    "power_output = 0.5 # kW\n",
    "yearly_pico_output = power_output * 365 * 24 # kWh\n",
    "\n",
    "# define the cost of electricity\n",
    "'''\n",
    "37.037p per kWh with a daily standing charge of 46.356p\n",
    "'''\n",
    "cost_per_kwh = 0.37037 # £/kWh\n",
    "daily_standing_charge = 0.46356 # £/day\n",
    "\n",
    "# define the cost of installing Pico Stream\n",
    "'''\n",
    "... for the Pico Stream and ... for installation\n",
    "'''\n",
    "pico_stream_cost = 4000 # £\n",
    "installation_cost = 500 # £\n"
   ]
  },
  {
   "cell_type": "code",
   "execution_count": 8,
   "metadata": {},
   "outputs": [
    {
     "name": "stdout",
     "output_type": "stream",
     "text": [
      "Annual cost of electricity: £1243.2723999999998\n",
      "Annual energy savings: £1243.2723999999998\n",
      "Annual energy earnings: £22.474051600000003\n",
      "Payback period: 3.5552143909324476 years\n"
     ]
    }
   ],
   "source": [
    "'''\n",
    "Calculate annual cost of electricity\n",
    "'''\n",
    "annual_cost = (yearly_usage * cost_per_kwh) + (365 * daily_standing_charge) # £\n",
    "\n",
    "'''\n",
    "Calculate payback period\n",
    "'''\n",
    "\n",
    "if (yearly_usage - yearly_pico_output) > 0:\n",
    "    yearly_energy_savings = (yearly_usage - yearly_pico_output) * cost_per_kwh # £\n",
    "else:\n",
    "    yearly_energy_savings = annual_cost\n",
    "if yearly_energy_savings < 0:\n",
    "    yearly_energy_earnings = abs(yearly_energy_savings) * 0.041 # £\n",
    "\n",
    "payback_period = (pico_stream_cost + installation_cost) / ( yearly_energy_earnings + yearly_energy_savings)  # years\n",
    "\n",
    "print('Annual cost of electricity: £' + str(annual_cost))\n",
    "print('Annual energy savings: £' + str(yearly_energy_savings))\n",
    "print('Annual energy earnings: £' + str(yearly_energy_earnings))\n",
    "print('Payback period: ' + str(payback_period) + ' years')\n"
   ]
  },
  {
   "cell_type": "code",
   "execution_count": 14,
   "metadata": {},
   "outputs": [
    {
     "name": "stdout",
     "output_type": "stream",
     "text": [
      "   Pico Stream Output (kW)  Yearly Cost Benefit (£)  Payback Period (years)\n",
      "0                      0.1                733.90352                6.131596\n",
      "1                      0.2               1058.34764                4.251911\n",
      "2                      0.3               1382.79176                3.254286\n",
      "3                      0.4               1268.03640                3.548794\n",
      "4                      0.5               1303.95240                3.451046\n",
      "5                      0.6               1339.86840                3.358539\n",
      "6                      0.7               1375.78440                3.270861\n",
      "7                      0.8               1411.70040                3.187645\n",
      "8                      0.9               1447.61640                3.108558\n",
      "9                      1.0               1483.53240                3.033301\n"
     ]
    }
   ],
   "source": [
    "'''\n",
    "Make a dataframe of the best case buy back periods for different Pico Stream outputs\n",
    "'''\n",
    "import pandas as pd\n",
    "# initialise dataframe\n",
    "df = pd.DataFrame(columns=['Pico Stream Output (kW)','Yearly Cost Benefit (£)', 'Payback Period (years)'])\n",
    "\n",
    "# define the range of Pico Stream outputs to test\n",
    "pico_stream_output_range = [0.1, 0.2, 0.3, 0.4, 0.5, 0.6, 0.7, 0.8, 0.9, 1.0]\n",
    "\n",
    "# loop through the range of Pico Stream outputs\n",
    "for pico_stream_output in pico_stream_output_range:\n",
    "    # calculate the yearly energy savings\n",
    "    yearly_pico_output = pico_stream_output * 365 * 24 # kWh\n",
    "    if (yearly_usage - yearly_pico_output) > 0:\n",
    "        yearly_energy_savings = annual_cost - (yearly_usage - yearly_pico_output) * cost_per_kwh # £\n",
    "    else:\n",
    "        yearly_energy_savings = annual_cost\n",
    "        yearly_energy_earnings = abs(yearly_usage - yearly_pico_output) * 0.041 # £\n",
    "\n",
    "    # calculate the payback period\n",
    "    payback_period = (pico_stream_cost + installation_cost) / ( yearly_energy_earnings + yearly_energy_savings)  # years\n",
    "    # add the results to the dataframe\n",
    "    df = df.append({'Pico Stream Output (kW)':pico_stream_output, 'Yearly Cost Benefit (£)':yearly_energy_earnings + yearly_energy_savings, 'Payback Period (years)':payback_period}, ignore_index=True)\n",
    "\n",
    "# print the dataframe\n",
    "print(df)\n",
    "\n",
    "# ignore warnings\n",
    "import warnings\n",
    "warnings.filterwarnings('ignore')\n"
   ]
  }
 ],
 "metadata": {
  "kernelspec": {
   "display_name": "dp4",
   "language": "python",
   "name": "python3"
  },
  "language_info": {
   "codemirror_mode": {
    "name": "ipython",
    "version": 3
   },
   "file_extension": ".py",
   "mimetype": "text/x-python",
   "name": "python",
   "nbconvert_exporter": "python",
   "pygments_lexer": "ipython3",
   "version": "3.10.9"
  },
  "orig_nbformat": 4
 },
 "nbformat": 4,
 "nbformat_minor": 2
}
