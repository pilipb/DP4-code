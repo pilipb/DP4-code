{
 "cells": [
  {
   "attachments": {},
   "cell_type": "markdown",
   "metadata": {},
   "source": [
    "### Optimisation of positioning of the turbine\n",
    "This notebook will look to optimise the positioning of the turbine to provide maximum power output allowing for variation in position (and eventually RPM, and other design parameters)"
   ]
  },
  {
   "cell_type": "code",
   "execution_count": 3,
   "metadata": {},
   "outputs": [],
   "source": [
    "import scipy.optimize as opt\n",
    "import numpy as np\n",
    "import matplotlib.pyplot as plt\n",
    "import pandas as pd\n",
    "\n",
    "from breastshot_calcs import breastTurbine\n",
    "from river_class import river_obj\n",
    "from undershot_calcs import underTurbine\n"
   ]
  },
  {
   "attachments": {},
   "cell_type": "markdown",
   "metadata": {},
   "source": [
    "# Full optimisation workbook\n",
    "\n",
    "This optimisation workbook will attempt to provide a region of best performance in the multi-dimensional parameter space of the turbine design features and installation sensitivities."
   ]
  },
  {
   "cell_type": "code",
   "execution_count": null,
   "metadata": {},
   "outputs": [],
   "source": [
    "'''\n",
    "List all the variables that need to be optimised\n",
    "\n",
    "as a dictionary with the variable name as the key and the bounds as the value\n",
    "\n",
    "'''\n",
    "\n",
    "b_param_dict = {\n",
    "    't_width': (0.5, 1.5),\n",
    "    't_radius': (0.4, 1.5),\n",
    "    't_num_blades': (3, 21),\n",
    "    't_barrel_radius': (0.1, 0.3),\n",
    "    't_drag_coeff': (0.5, 2.5),\n",
    "    't_RPM': (1, 40),\n",
    "    't_y_centre': (-2, 1),\n",
    "    't_x_centre': (0.4, 3),\n",
    "}\n",
    "\n",
    "u_param_dict = {\n",
    "    't_width': (0.5, 1.5),\n",
    "    't_radius': (0.4, 1.5),\n",
    "    't_num_blades': (3, 21),\n",
    "    't_barrel_radius': (0.1, 0.3),\n",
    "    't_drag_coeff': (0.5, 2.5),\n",
    "    't_RPM': (1, 40),\n",
    "    't_y_centre': (0, 3),\n",
    "}\n",
    "\n"
   ]
  }
 ],
 "metadata": {
  "kernelspec": {
   "display_name": "dp4",
   "language": "python",
   "name": "python3"
  },
  "language_info": {
   "codemirror_mode": {
    "name": "ipython",
    "version": 3
   },
   "file_extension": ".py",
   "mimetype": "text/x-python",
   "name": "python",
   "nbconvert_exporter": "python",
   "pygments_lexer": "ipython3",
   "version": "3.10.9"
  },
  "orig_nbformat": 4,
  "vscode": {
   "interpreter": {
    "hash": "3a00d15d2b6cf71e0e0fe58f4852b7681aecdc47603a4dc6a43d82f5a0a15de7"
   }
  }
 },
 "nbformat": 4,
 "nbformat_minor": 2
}
