{
 "cells": [
  {
   "cell_type": "code",
   "execution_count": 6,
   "metadata": {},
   "outputs": [],
   "source": [
    "# import required modules\n",
    "from breastshot_calcs import *\n",
    "from undershot_calcs import *\n",
    "from user_interface import *\n",
    "from river_class import *\n",
    "from payback import *"
   ]
  },
  {
   "attachments": {},
   "cell_type": "markdown",
   "metadata": {},
   "source": [
    "# TURBINE MODELLING, POSITION OPTIMISATION, POWER AND COST PREDICTION\n",
    "\n",
    "This notebook will take a customer through the step by step process of assessing the installation of a PicoStream turbine at their location.\n",
    "\n",
    "### Section 1: begins with an input of estimated river, household and turbine features\n"
   ]
  },
  {
   "cell_type": "code",
   "execution_count": 7,
   "metadata": {},
   "outputs": [],
   "source": [
    "# Input river details\n",
    "\n",
    "# width in meters\n",
    "width = 0.7\n",
    "\n",
    "# depth in meters\n",
    "depth = 0.5\n",
    "\n",
    "# velocity in m/s\n",
    "velocity = 1.5\n",
    "\n",
    "# initialise river object\n",
    "river = river_obj(width, depth, velocity)"
   ]
  },
  {
   "cell_type": "code",
   "execution_count": 8,
   "metadata": {},
   "outputs": [],
   "source": [
    "# initialise default PicoStream breastshot turbine object with river object as input\n",
    "b_turbine = breastTurbine(river=river)"
   ]
  },
  {
   "cell_type": "code",
   "execution_count": 9,
   "metadata": {},
   "outputs": [],
   "source": [
    "# initialise default household object (either small, medium or large or numeric value)\n",
    "household = household('small')"
   ]
  },
  {
   "attachments": {},
   "cell_type": "markdown",
   "metadata": {},
   "source": [
    "### Section 2. the details of the turbine, river and household are inputted and so modelling begins\n",
    "\n"
   ]
  },
  {
   "cell_type": "code",
   "execution_count": 11,
   "metadata": {},
   "outputs": [
    {
     "name": "stdout",
     "output_type": "stream",
     "text": [
      "Optimization terminated successfully.\n",
      "         Current function value: -462.875624\n",
      "         Iterations: 104\n",
      "         Function evaluations: 203\n",
      "The power output of the turbine is: 462.8756242300657 W\n"
     ]
    }
   ],
   "source": [
    "# run optimisation at 15 RPM\n",
    "power, x, y = b_turbine.optimise(RPM=15)\n",
    "\n",
    "print('The power output of the turbine is: ' + str(power) + ' W')"
   ]
  },
  {
   "cell_type": "code",
   "execution_count": null,
   "metadata": {},
   "outputs": [],
   "source": [
    "# plot the turbine\n",
    "# reinitialise the turbine object with the optimised coordinates\n",
    "b_turbine = breastTurbine(river=river, x=x, y=y)\n",
    "b_turbine.plot_turbine()"
   ]
  }
 ],
 "metadata": {
  "kernelspec": {
   "display_name": "dp4",
   "language": "python",
   "name": "python3"
  },
  "language_info": {
   "codemirror_mode": {
    "name": "ipython",
    "version": 3
   },
   "file_extension": ".py",
   "mimetype": "text/x-python",
   "name": "python",
   "nbconvert_exporter": "python",
   "pygments_lexer": "ipython3",
   "version": "3.10.9"
  },
  "orig_nbformat": 4
 },
 "nbformat": 4,
 "nbformat_minor": 2
}
