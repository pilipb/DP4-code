{
 "cells": [
  {
   "cell_type": "code",
   "execution_count": 1,
   "metadata": {},
   "outputs": [],
   "source": [
    "# import required modules\n",
    "from breastshot_calcs import *\n",
    "from undershot_calcs import *\n",
    "from user_interface import *\n",
    "from river_class import *\n",
    "from payback import *"
   ]
  },
  {
   "attachments": {},
   "cell_type": "markdown",
   "metadata": {},
   "source": [
    "# TURBINE MODELLING, POSITION OPTIMISATION, POWER AND COST PREDICTION\n",
    "\n",
    "### This notebook will take a customer through the step by step process of assessing the installation of a PicoStream turbine at their location.\n",
    "\n",
    "Section 1: begins with an input of estimated river, household and turbine features\n"
   ]
  },
  {
   "cell_type": "code",
   "execution_count": 2,
   "metadata": {},
   "outputs": [],
   "source": [
    "# Input river details\n",
    "\n",
    "# width in meters\n",
    "width = 0.7\n",
    "\n",
    "# depth in meters\n",
    "depth = 0.5\n",
    "\n",
    "# velocity in m/s\n",
    "velocity = 1.5\n",
    "\n",
    "# initialise river object\n",
    "river = river_obj(width, depth, velocity)"
   ]
  },
  {
   "cell_type": "code",
   "execution_count": 3,
   "metadata": {},
   "outputs": [],
   "source": [
    "# initialise default PicoStream breastshot turbine object with river object as input\n",
    "b_turbine = breastTurbine(river=river)"
   ]
  },
  {
   "cell_type": "code",
   "execution_count": 4,
   "metadata": {},
   "outputs": [],
   "source": [
    "# initialise default household object (either small, medium or large or numeric value)\n",
    "household = household('small')"
   ]
  },
  {
   "cell_type": "code",
   "execution_count": null,
   "metadata": {},
   "outputs": [],
   "source": []
  }
 ],
 "metadata": {
  "kernelspec": {
   "display_name": "dp4",
   "language": "python",
   "name": "python3"
  },
  "language_info": {
   "codemirror_mode": {
    "name": "ipython",
    "version": 3
   },
   "file_extension": ".py",
   "mimetype": "text/x-python",
   "name": "python",
   "nbconvert_exporter": "python",
   "pygments_lexer": "ipython3",
   "version": "3.10.9"
  },
  "orig_nbformat": 4
 },
 "nbformat": 4,
 "nbformat_minor": 2
}
