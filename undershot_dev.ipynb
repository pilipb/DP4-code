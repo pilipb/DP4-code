{
 "cells": [
  {
   "attachments": {},
   "cell_type": "markdown",
   "metadata": {},
   "source": [
    "Undershot model will be built entirely on impulse (momentum transfer)\n",
    "input will require river details, and turbine class\n",
    "\n"
   ]
  },
  {
   "cell_type": "code",
   "execution_count": 1,
   "metadata": {},
   "outputs": [],
   "source": [
    "# imports\n",
    "import numpy as np\n",
    "import math\n",
    "from river_class import *\n"
   ]
  },
  {
   "cell_type": "code",
   "execution_count": 3,
   "metadata": {},
   "outputs": [],
   "source": [
    "# set up river\n",
    "\n",
    "# Define river parameters\n",
    "width = 10 # m\n",
    "depth = 1.5 # m\n",
    "velocity = 0.5 # m/s\n",
    "\n",
    "river = river_obj(width, depth, velocity)"
   ]
  },
  {
   "cell_type": "code",
   "execution_count": 4,
   "metadata": {},
   "outputs": [],
   "source": [
    "# Define turbine parameters\n",
    "radius = 0.75 # m\n",
    "num_blades = 5\n",
    "turbine_mass = 100\n",
    "blade_mass = 3\n",
    "centre_mass = 100 - (5*3)\n",
    "blade_vol = 0.1\n",
    "centre_vol = 0.2\n",
    "g = 9.81\n",
    "\n",
    "# for undershot there will only be a y_centre parameter\n",
    "y_centre = 0.2 # m - or if not calculated will be calculated through archemedes\n",
    "t_width = 1 # m\n"
   ]
  },
  {
   "cell_type": "code",
   "execution_count": null,
   "metadata": {},
   "outputs": [],
   "source": [
    "# calculate the submerged depth of the blade\n",
    "\n",
    "# volume submerged is function of weight need system of equations.\n",
    "\n",
    "force = - river.rho * g * volume_displaced"
   ]
  },
  {
   "cell_type": "code",
   "execution_count": null,
   "metadata": {},
   "outputs": [],
   "source": [
    "# calculate effective angle for turbine - 0 is horizontal left, flow l to r\n",
    "alpha1 = np.arcsin(unsub_depth / radius)"
   ]
  }
 ],
 "metadata": {
  "kernelspec": {
   "display_name": "dp4",
   "language": "python",
   "name": "python3"
  },
  "language_info": {
   "codemirror_mode": {
    "name": "ipython",
    "version": 3
   },
   "file_extension": ".py",
   "mimetype": "text/x-python",
   "name": "python",
   "nbconvert_exporter": "python",
   "pygments_lexer": "ipython3",
   "version": "3.10.9"
  },
  "orig_nbformat": 4,
  "vscode": {
   "interpreter": {
    "hash": "3a00d15d2b6cf71e0e0fe58f4852b7681aecdc47603a4dc6a43d82f5a0a15de7"
   }
  }
 },
 "nbformat": 4,
 "nbformat_minor": 2
}
