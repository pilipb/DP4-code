{
 "cells": [
  {
   "attachments": {},
   "cell_type": "markdown",
   "metadata": {},
   "source": [
    "Undershot model will be built entirely on impulse (momentum transfer)\n",
    "input will require river details, and turbine class\n",
    "\n"
   ]
  },
  {
   "cell_type": "code",
   "execution_count": null,
   "metadata": {},
   "outputs": [],
   "source": [
    "# imports\n",
    "import numpy as np\n",
    "import math"
   ]
  },
  {
   "cell_type": "code",
   "execution_count": null,
   "metadata": {},
   "outputs": [],
   "source": [
    "# set up river\n",
    "\n",
    "# Define river parameters\n",
    "width = 10 # m\n",
    "depth = 1.5 # m\n",
    "velocity = 0.5 # m/s\n",
    "head = 2 # m"
   ]
  },
  {
   "cell_type": "code",
   "execution_count": null,
   "metadata": {},
   "outputs": [],
   "source": [
    "# Define turbine parameters\n",
    "radius = 0.75 # m\n",
    "num_blades = 5\n",
    "x_centre = 2 # m\n",
    "y_centre = -1 # m\n",
    "turbWidth = 1 # m"
   ]
  }
 ],
 "metadata": {
  "kernelspec": {
   "display_name": "dp4",
   "language": "python",
   "name": "python3"
  },
  "language_info": {
   "name": "python",
   "version": "3.10.9"
  },
  "orig_nbformat": 4,
  "vscode": {
   "interpreter": {
    "hash": "3a00d15d2b6cf71e0e0fe58f4852b7681aecdc47603a4dc6a43d82f5a0a15de7"
   }
  }
 },
 "nbformat": 4,
 "nbformat_minor": 2
}
