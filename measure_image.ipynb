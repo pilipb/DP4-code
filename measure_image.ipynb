{
 "cells": [
  {
   "cell_type": "code",
   "execution_count": null,
   "metadata": {},
   "outputs": [],
   "source": [
    "# import the necessary packages\n",
    "from scipy.spatial import distance as dist\n",
    "from imutils import perspective\n",
    "from imutils import contours\n",
    "import numpy as np\n",
    "import argparse\n",
    "import imutils\n",
    "import cv2\n",
    "\n",
    "\n",
    "def midpoint(ptA, ptB):\n",
    "\treturn ((ptA[0] + ptB[0]) * 0.5, (ptA[1] + ptB[1]) * 0.5)\n",
    "\n",
    "\n",
    "# construct the argument parse and parse the arguments\n",
    "ap = argparse.ArgumentParser()\n",
    "ap.add_argument(\"-i\", \"--image\", required=True,\n",
    "\thelp=\"path to the input image\")\n",
    "ap.add_argument(\"-w\", \"--width\", type=float, required=True,\n",
    "\thelp=\"width of the left-most object in the image (in inches)\")\n",
    "args = vars(ap.parse_args())"
   ]
  },
  {
   "cell_type": "code",
   "execution_count": null,
   "metadata": {},
   "outputs": [],
   "source": [
    "# load the image, convert it to grayscale, and blur it slightly\n",
    "image = cv2.imread(args[\"image\"])\n",
    "gray = cv2.cvtColor(image, cv2.COLOR_BGR2GRAY)\n",
    "gray = cv2.GaussianBlur(gray, (7, 7), 0)\n",
    "\n",
    "# perform edge detection, then perform a dilation + erosion to\n",
    "# close gaps in between object edges\n",
    "edged = cv2.Canny(gray, 50, 100)\n",
    "edged = cv2.dilate(edged, None, iterations=1)\n",
    "edged = cv2.erode(edged, None, iterations=1)\n",
    "\n",
    "# find contours in the edge map\n",
    "cnts = cv2.findContours(edged.copy(), cv2.RETR_EXTERNAL,\n",
    "\tcv2.CHAIN_APPROX_SIMPLE)\n",
    "cnts = imutils.grab_contours(cnts)\n",
    "\n",
    "# sort the contours from left-to-right and initialize the\n",
    "# 'pixels per metric' calibration variable\n",
    "(cnts, _) = contours.sort_contours(cnts)\n",
    "pixelsPerMetric = None"
   ]
  }
 ],
 "metadata": {
  "language_info": {
   "name": "python"
  },
  "orig_nbformat": 4
 },
 "nbformat": 4,
 "nbformat_minor": 2
}
