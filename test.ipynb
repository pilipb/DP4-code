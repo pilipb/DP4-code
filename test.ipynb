{
 "cells": [
  {
   "cell_type": "code",
   "execution_count": 3,
   "metadata": {},
   "outputs": [],
   "source": [
    "# imports\n",
    "from breastshot_calcs import *\n",
    "from river_class import *"
   ]
  },
  {
   "cell_type": "code",
   "execution_count": 7,
   "metadata": {},
   "outputs": [],
   "source": [
    "# turbine details\n",
    "radius = 0.54\n",
    "width = 1.1\n",
    "num_blades = 5\n",
    "max_bucket = 8.2\n",
    "x_centre = 0.5\n",
    "y_centre = -0.5\n",
    "\n",
    "# river details\n",
    "r_width = 5\n",
    "r_depth = 1.2\n",
    "r_veloctiy = 1.5\n",
    "\n",
    "# initialise\n",
    "river = river_obj(r_width,r_depth,r_veloctiy)\n",
    "turbine = breastTurbine(radius, width, num_blades, max_bucket, x_centre, y_centre, river)"
   ]
  },
  {
   "cell_type": "code",
   "execution_count": 8,
   "metadata": {},
   "outputs": [
    {
     "data": {
      "text/plain": [
       "0"
      ]
     },
     "execution_count": 8,
     "metadata": {},
     "output_type": "execute_result"
    }
   ],
   "source": [
    "# apply turbine methods - a return of 0 denotes success\n",
    "turbine.find_intersects()"
   ]
  },
  {
   "cell_type": "code",
   "execution_count": 9,
   "metadata": {},
   "outputs": [
    {
     "data": {
      "text/plain": [
       "0"
      ]
     },
     "execution_count": 9,
     "metadata": {},
     "output_type": "execute_result"
    }
   ],
   "source": [
    "turbine.find_theta_range()"
   ]
  },
  {
   "cell_type": "code",
   "execution_count": 10,
   "metadata": {},
   "outputs": [
    {
     "data": {
      "text/plain": [
       "0"
      ]
     },
     "execution_count": 10,
     "metadata": {},
     "output_type": "execute_result"
    }
   ],
   "source": [
    "turbine.find_bucket_mass()"
   ]
  },
  {
   "cell_type": "code",
   "execution_count": 11,
   "metadata": {},
   "outputs": [
    {
     "data": {
      "text/plain": [
       "0"
      ]
     },
     "execution_count": 11,
     "metadata": {},
     "output_type": "execute_result"
    }
   ],
   "source": [
    "turbine.find_torque()"
   ]
  },
  {
   "cell_type": "code",
   "execution_count": 12,
   "metadata": {},
   "outputs": [
    {
     "data": {
      "text/plain": [
       "0"
      ]
     },
     "execution_count": 12,
     "metadata": {},
     "output_type": "execute_result"
    }
   ],
   "source": [
    "turbine.find_momentum()"
   ]
  },
  {
   "cell_type": "code",
   "execution_count": 13,
   "metadata": {},
   "outputs": [
    {
     "ename": "ValueError",
     "evalue": "The truth value of an array with more than one element is ambiguous. Use a.any() or a.all()",
     "output_type": "error",
     "traceback": [
      "\u001b[0;31m---------------------------------------------------------------------------\u001b[0m",
      "\u001b[0;31mValueError\u001b[0m                                Traceback (most recent call last)",
      "Cell \u001b[0;32mIn[13], line 2\u001b[0m\n\u001b[1;32m      1\u001b[0m turbine_RPM \u001b[39m=\u001b[39m \u001b[39m15\u001b[39m\n\u001b[0;32m----> 2\u001b[0m turbine\u001b[39m.\u001b[39;49mfind_power(turbine_RPM)\n",
      "File \u001b[0;32m~/Desktop/Github/DP4-code/breastshot_calcs.py:183\u001b[0m, in \u001b[0;36mbreastTurbine.find_power\u001b[0;34m(self, RPM)\u001b[0m\n\u001b[1;32m    180\u001b[0m     power\u001b[39m.\u001b[39mappend((mom \u001b[39m+\u001b[39m \u001b[39mself\u001b[39m\u001b[39m.\u001b[39mtorque_list[i]) \u001b[39m*\u001b[39m rot_speed)\n\u001b[1;32m    182\u001b[0m \u001b[39mself\u001b[39m\u001b[39m.\u001b[39moutput_power_list \u001b[39m=\u001b[39m power\n\u001b[0;32m--> 183\u001b[0m \u001b[39mself\u001b[39m\u001b[39m.\u001b[39mmax_power \u001b[39m=\u001b[39m \u001b[39mmax\u001b[39;49m(power)\n\u001b[1;32m    184\u001b[0m \u001b[39mself\u001b[39m\u001b[39m.\u001b[39mavg_power \u001b[39m=\u001b[39m np\u001b[39m.\u001b[39mmean(power)\n\u001b[1;32m    186\u001b[0m \u001b[39mreturn\u001b[39;00m \u001b[39m0\u001b[39m\n",
      "\u001b[0;31mValueError\u001b[0m: The truth value of an array with more than one element is ambiguous. Use a.any() or a.all()"
     ]
    }
   ],
   "source": [
    "turbine_RPM = 15\n",
    "turbine.find_power(turbine_RPM)"
   ]
  }
 ],
 "metadata": {
  "kernelspec": {
   "display_name": "dp4",
   "language": "python",
   "name": "python3"
  },
  "language_info": {
   "codemirror_mode": {
    "name": "ipython",
    "version": 3
   },
   "file_extension": ".py",
   "mimetype": "text/x-python",
   "name": "python",
   "nbconvert_exporter": "python",
   "pygments_lexer": "ipython3",
   "version": "3.10.9"
  },
  "orig_nbformat": 4,
  "vscode": {
   "interpreter": {
    "hash": "3a00d15d2b6cf71e0e0fe58f4852b7681aecdc47603a4dc6a43d82f5a0a15de7"
   }
  }
 },
 "nbformat": 4,
 "nbformat_minor": 2
}
