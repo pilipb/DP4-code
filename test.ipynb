{
 "cells": [
  {
   "cell_type": "code",
   "execution_count": 1,
   "metadata": {},
   "outputs": [],
   "source": [
    "# imports\n",
    "from bshot_calcs import *"
   ]
  },
  {
   "cell_type": "code",
   "execution_count": null,
   "metadata": {},
   "outputs": [],
   "source": [
    "# initialise a turbine\n",
    "radius = 0.54\n",
    "width = 1.1\n",
    "num_blades = 5\n",
    "max_bucket = 8.2\n",
    "x_centre = 0.7\n",
    "y_centre = -0.7\n",
    "\n",
    "river = \n",
    "\n",
    "turbine = breastTurbine(radius, width, num_blades, max_bucket, x_centre, y_centre, river)"
   ]
  }
 ],
 "metadata": {
  "kernelspec": {
   "display_name": "dp4",
   "language": "python",
   "name": "python3"
  },
  "language_info": {
   "codemirror_mode": {
    "name": "ipython",
    "version": 3
   },
   "file_extension": ".py",
   "mimetype": "text/x-python",
   "name": "python",
   "nbconvert_exporter": "python",
   "pygments_lexer": "ipython3",
   "version": "3.10.9"
  },
  "orig_nbformat": 4,
  "vscode": {
   "interpreter": {
    "hash": "3a00d15d2b6cf71e0e0fe58f4852b7681aecdc47603a4dc6a43d82f5a0a15de7"
   }
  }
 },
 "nbformat": 4,
 "nbformat_minor": 2
}
